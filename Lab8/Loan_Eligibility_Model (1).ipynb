{
  "cells": [
    {
      "cell_type": "markdown",
      "metadata": {
        "id": "7i-D1AgMavSq"
      },
      "source": [
        "# Classification Agorithms"
      ]
    },
    {
      "cell_type": "markdown",
      "metadata": {
        "id": "Z_fGl8o4J2FR"
      },
      "source": [
        "## **Loan Eligibility Prediction Model**"
      ]
    },
    {
      "cell_type": "markdown",
      "metadata": {
        "id": "VIu7n0izavSy"
      },
      "source": [
        "### Project Scope:\n",
        "\n",
        "Loans form an integral part of banking operations. However, not all loans are returned and hence it is important for a bank to closely moniter its loan applications. This case study is an analysis of the German Credit data. It contains details of 614 loan applicants with 13 attributes and the classification whether an applicant was granted loan or denied loan.\n",
        "\n",
        "**Your role:** Using the available dataset, train a classification model to predict whether an applicant should be given loan.\n",
        "\n",
        "**Goal:** Build a model to predict loan eligiblity with an average acuracy of more than 76%\n",
        "\n",
        "**Specifics:**\n",
        "\n",
        "* Machine Learning task: Classification model\n",
        "* Target variable: Loan_Status\n",
        "* Input variables: Refer to data dictionary below\n",
        "* Success Criteria: Accuracy of 76% and above\n"
      ]
    },
    {
      "cell_type": "markdown",
      "metadata": {
        "id": "XqM1roMSavSz"
      },
      "source": [
        "## Data Dictionary:\n",
        "\n",
        "* **Loan_ID:** Applicant ID\n",
        "* **Gender:** Gender of the applicant Male/Female\n",
        "* **Married:** Marital status of the applicant\n",
        "* **Dependents:** Number of dependants the applicant has\n",
        "* **Education:** Highest level of education\n",
        "* **Self_Employed:** Whether self-employed Yes/No\n",
        "* **ApplicantIncome:** Income of the applicant\n",
        "* **CoapplicantIncome:** Income of the co-applicant\n",
        "* **LoanAmount:** Loan amount requested\n",
        "* **Loan_Amount_Term:** Term of the loan\n",
        "* **Credit_History:** Whether applicant has a credit history\n",
        "* **Property_Area:** Current property location\n",
        "* **Loan_Approved:** Loan approved yes/no"
      ]
    },
    {
      "cell_type": "markdown",
      "metadata": {
        "id": "RYOHc68YujYE"
      },
      "source": [
        "## **Data Analysis and Data Prep**"
      ]
    },
    {
      "cell_type": "markdown",
      "metadata": {
        "id": "lc_kizYoJ2FS"
      },
      "source": [
        "### Loading all the necessary packages"
      ]
    },
    {
      "cell_type": "code",
      "execution_count": 14,
      "metadata": {
        "id": "AkAmUuumJ2FU"
      },
      "outputs": [],
      "source": [
        "import pandas as pd\n",
        "import numpy as np\n",
        "import seaborn as sns\n",
        "import matplotlib.pyplot as plt\n",
        "%matplotlib inline\n",
        "import warnings\n",
        "warnings.filterwarnings(\"ignore\")"
      ]
    },
    {
      "cell_type": "markdown",
      "metadata": {
        "id": "ZsJCxVwOJ2FU"
      },
      "source": [
        "### Reading the data"
      ]
    },
    {
      "cell_type": "code",
      "execution_count": 15,
      "metadata": {
        "colab": {
          "base_uri": "https://localhost:8080/",
          "height": 223
        },
        "id": "LPxkm7y6J2FW",
        "outputId": "e8b2a79e-5879-47d8-94d0-b8183c4878b3"
      },
      "outputs": [
        {
          "output_type": "execute_result",
          "data": {
            "text/plain": [
              "    Loan_ID Gender Married Dependents     Education Self_Employed  \\\n",
              "0  LP001002   Male      No          0      Graduate            No   \n",
              "1  LP001003   Male     Yes          1      Graduate            No   \n",
              "2  LP001005   Male     Yes          0      Graduate           Yes   \n",
              "3  LP001006   Male     Yes          0  Not Graduate            No   \n",
              "4  LP001008   Male      No          0      Graduate            No   \n",
              "\n",
              "   ApplicantIncome  CoapplicantIncome  LoanAmount  Loan_Amount_Term  \\\n",
              "0             5849                0.0         128               360   \n",
              "1             4583             1508.0         128               360   \n",
              "2             3000                0.0          66               360   \n",
              "3             2583             2358.0         120               360   \n",
              "4             6000                0.0         141               360   \n",
              "\n",
              "   Credit_History Property_Area  Loan_Approved  \n",
              "0               1         Urban              1  \n",
              "1               1         Rural              0  \n",
              "2               1         Urban              1  \n",
              "3               1         Urban              1  \n",
              "4               1         Urban              1  "
            ],
            "text/html": [
              "\n",
              "  <div id=\"df-547d0000-90ba-49c6-ac62-505e9aa8dc38\" class=\"colab-df-container\">\n",
              "    <div>\n",
              "<style scoped>\n",
              "    .dataframe tbody tr th:only-of-type {\n",
              "        vertical-align: middle;\n",
              "    }\n",
              "\n",
              "    .dataframe tbody tr th {\n",
              "        vertical-align: top;\n",
              "    }\n",
              "\n",
              "    .dataframe thead th {\n",
              "        text-align: right;\n",
              "    }\n",
              "</style>\n",
              "<table border=\"1\" class=\"dataframe\">\n",
              "  <thead>\n",
              "    <tr style=\"text-align: right;\">\n",
              "      <th></th>\n",
              "      <th>Loan_ID</th>\n",
              "      <th>Gender</th>\n",
              "      <th>Married</th>\n",
              "      <th>Dependents</th>\n",
              "      <th>Education</th>\n",
              "      <th>Self_Employed</th>\n",
              "      <th>ApplicantIncome</th>\n",
              "      <th>CoapplicantIncome</th>\n",
              "      <th>LoanAmount</th>\n",
              "      <th>Loan_Amount_Term</th>\n",
              "      <th>Credit_History</th>\n",
              "      <th>Property_Area</th>\n",
              "      <th>Loan_Approved</th>\n",
              "    </tr>\n",
              "  </thead>\n",
              "  <tbody>\n",
              "    <tr>\n",
              "      <th>0</th>\n",
              "      <td>LP001002</td>\n",
              "      <td>Male</td>\n",
              "      <td>No</td>\n",
              "      <td>0</td>\n",
              "      <td>Graduate</td>\n",
              "      <td>No</td>\n",
              "      <td>5849</td>\n",
              "      <td>0.0</td>\n",
              "      <td>128</td>\n",
              "      <td>360</td>\n",
              "      <td>1</td>\n",
              "      <td>Urban</td>\n",
              "      <td>1</td>\n",
              "    </tr>\n",
              "    <tr>\n",
              "      <th>1</th>\n",
              "      <td>LP001003</td>\n",
              "      <td>Male</td>\n",
              "      <td>Yes</td>\n",
              "      <td>1</td>\n",
              "      <td>Graduate</td>\n",
              "      <td>No</td>\n",
              "      <td>4583</td>\n",
              "      <td>1508.0</td>\n",
              "      <td>128</td>\n",
              "      <td>360</td>\n",
              "      <td>1</td>\n",
              "      <td>Rural</td>\n",
              "      <td>0</td>\n",
              "    </tr>\n",
              "    <tr>\n",
              "      <th>2</th>\n",
              "      <td>LP001005</td>\n",
              "      <td>Male</td>\n",
              "      <td>Yes</td>\n",
              "      <td>0</td>\n",
              "      <td>Graduate</td>\n",
              "      <td>Yes</td>\n",
              "      <td>3000</td>\n",
              "      <td>0.0</td>\n",
              "      <td>66</td>\n",
              "      <td>360</td>\n",
              "      <td>1</td>\n",
              "      <td>Urban</td>\n",
              "      <td>1</td>\n",
              "    </tr>\n",
              "    <tr>\n",
              "      <th>3</th>\n",
              "      <td>LP001006</td>\n",
              "      <td>Male</td>\n",
              "      <td>Yes</td>\n",
              "      <td>0</td>\n",
              "      <td>Not Graduate</td>\n",
              "      <td>No</td>\n",
              "      <td>2583</td>\n",
              "      <td>2358.0</td>\n",
              "      <td>120</td>\n",
              "      <td>360</td>\n",
              "      <td>1</td>\n",
              "      <td>Urban</td>\n",
              "      <td>1</td>\n",
              "    </tr>\n",
              "    <tr>\n",
              "      <th>4</th>\n",
              "      <td>LP001008</td>\n",
              "      <td>Male</td>\n",
              "      <td>No</td>\n",
              "      <td>0</td>\n",
              "      <td>Graduate</td>\n",
              "      <td>No</td>\n",
              "      <td>6000</td>\n",
              "      <td>0.0</td>\n",
              "      <td>141</td>\n",
              "      <td>360</td>\n",
              "      <td>1</td>\n",
              "      <td>Urban</td>\n",
              "      <td>1</td>\n",
              "    </tr>\n",
              "  </tbody>\n",
              "</table>\n",
              "</div>\n",
              "    <div class=\"colab-df-buttons\">\n",
              "\n",
              "  <div class=\"colab-df-container\">\n",
              "    <button class=\"colab-df-convert\" onclick=\"convertToInteractive('df-547d0000-90ba-49c6-ac62-505e9aa8dc38')\"\n",
              "            title=\"Convert this dataframe to an interactive table.\"\n",
              "            style=\"display:none;\">\n",
              "\n",
              "  <svg xmlns=\"http://www.w3.org/2000/svg\" height=\"24px\" viewBox=\"0 -960 960 960\">\n",
              "    <path d=\"M120-120v-720h720v720H120Zm60-500h600v-160H180v160Zm220 220h160v-160H400v160Zm0 220h160v-160H400v160ZM180-400h160v-160H180v160Zm440 0h160v-160H620v160ZM180-180h160v-160H180v160Zm440 0h160v-160H620v160Z\"/>\n",
              "  </svg>\n",
              "    </button>\n",
              "\n",
              "  <style>\n",
              "    .colab-df-container {\n",
              "      display:flex;\n",
              "      gap: 12px;\n",
              "    }\n",
              "\n",
              "    .colab-df-convert {\n",
              "      background-color: #E8F0FE;\n",
              "      border: none;\n",
              "      border-radius: 50%;\n",
              "      cursor: pointer;\n",
              "      display: none;\n",
              "      fill: #1967D2;\n",
              "      height: 32px;\n",
              "      padding: 0 0 0 0;\n",
              "      width: 32px;\n",
              "    }\n",
              "\n",
              "    .colab-df-convert:hover {\n",
              "      background-color: #E2EBFA;\n",
              "      box-shadow: 0px 1px 2px rgba(60, 64, 67, 0.3), 0px 1px 3px 1px rgba(60, 64, 67, 0.15);\n",
              "      fill: #174EA6;\n",
              "    }\n",
              "\n",
              "    .colab-df-buttons div {\n",
              "      margin-bottom: 4px;\n",
              "    }\n",
              "\n",
              "    [theme=dark] .colab-df-convert {\n",
              "      background-color: #3B4455;\n",
              "      fill: #D2E3FC;\n",
              "    }\n",
              "\n",
              "    [theme=dark] .colab-df-convert:hover {\n",
              "      background-color: #434B5C;\n",
              "      box-shadow: 0px 1px 3px 1px rgba(0, 0, 0, 0.15);\n",
              "      filter: drop-shadow(0px 1px 2px rgba(0, 0, 0, 0.3));\n",
              "      fill: #FFFFFF;\n",
              "    }\n",
              "  </style>\n",
              "\n",
              "    <script>\n",
              "      const buttonEl =\n",
              "        document.querySelector('#df-547d0000-90ba-49c6-ac62-505e9aa8dc38 button.colab-df-convert');\n",
              "      buttonEl.style.display =\n",
              "        google.colab.kernel.accessAllowed ? 'block' : 'none';\n",
              "\n",
              "      async function convertToInteractive(key) {\n",
              "        const element = document.querySelector('#df-547d0000-90ba-49c6-ac62-505e9aa8dc38');\n",
              "        const dataTable =\n",
              "          await google.colab.kernel.invokeFunction('convertToInteractive',\n",
              "                                                    [key], {});\n",
              "        if (!dataTable) return;\n",
              "\n",
              "        const docLinkHtml = 'Like what you see? Visit the ' +\n",
              "          '<a target=\"_blank\" href=https://colab.research.google.com/notebooks/data_table.ipynb>data table notebook</a>'\n",
              "          + ' to learn more about interactive tables.';\n",
              "        element.innerHTML = '';\n",
              "        dataTable['output_type'] = 'display_data';\n",
              "        await google.colab.output.renderOutput(dataTable, element);\n",
              "        const docLink = document.createElement('div');\n",
              "        docLink.innerHTML = docLinkHtml;\n",
              "        element.appendChild(docLink);\n",
              "      }\n",
              "    </script>\n",
              "  </div>\n",
              "\n",
              "\n",
              "<div id=\"df-4f5f307f-9fff-447d-8e7d-5092315b17e5\">\n",
              "  <button class=\"colab-df-quickchart\" onclick=\"quickchart('df-4f5f307f-9fff-447d-8e7d-5092315b17e5')\"\n",
              "            title=\"Suggest charts\"\n",
              "            style=\"display:none;\">\n",
              "\n",
              "<svg xmlns=\"http://www.w3.org/2000/svg\" height=\"24px\"viewBox=\"0 0 24 24\"\n",
              "     width=\"24px\">\n",
              "    <g>\n",
              "        <path d=\"M19 3H5c-1.1 0-2 .9-2 2v14c0 1.1.9 2 2 2h14c1.1 0 2-.9 2-2V5c0-1.1-.9-2-2-2zM9 17H7v-7h2v7zm4 0h-2V7h2v10zm4 0h-2v-4h2v4z\"/>\n",
              "    </g>\n",
              "</svg>\n",
              "  </button>\n",
              "\n",
              "<style>\n",
              "  .colab-df-quickchart {\n",
              "      --bg-color: #E8F0FE;\n",
              "      --fill-color: #1967D2;\n",
              "      --hover-bg-color: #E2EBFA;\n",
              "      --hover-fill-color: #174EA6;\n",
              "      --disabled-fill-color: #AAA;\n",
              "      --disabled-bg-color: #DDD;\n",
              "  }\n",
              "\n",
              "  [theme=dark] .colab-df-quickchart {\n",
              "      --bg-color: #3B4455;\n",
              "      --fill-color: #D2E3FC;\n",
              "      --hover-bg-color: #434B5C;\n",
              "      --hover-fill-color: #FFFFFF;\n",
              "      --disabled-bg-color: #3B4455;\n",
              "      --disabled-fill-color: #666;\n",
              "  }\n",
              "\n",
              "  .colab-df-quickchart {\n",
              "    background-color: var(--bg-color);\n",
              "    border: none;\n",
              "    border-radius: 50%;\n",
              "    cursor: pointer;\n",
              "    display: none;\n",
              "    fill: var(--fill-color);\n",
              "    height: 32px;\n",
              "    padding: 0;\n",
              "    width: 32px;\n",
              "  }\n",
              "\n",
              "  .colab-df-quickchart:hover {\n",
              "    background-color: var(--hover-bg-color);\n",
              "    box-shadow: 0 1px 2px rgba(60, 64, 67, 0.3), 0 1px 3px 1px rgba(60, 64, 67, 0.15);\n",
              "    fill: var(--button-hover-fill-color);\n",
              "  }\n",
              "\n",
              "  .colab-df-quickchart-complete:disabled,\n",
              "  .colab-df-quickchart-complete:disabled:hover {\n",
              "    background-color: var(--disabled-bg-color);\n",
              "    fill: var(--disabled-fill-color);\n",
              "    box-shadow: none;\n",
              "  }\n",
              "\n",
              "  .colab-df-spinner {\n",
              "    border: 2px solid var(--fill-color);\n",
              "    border-color: transparent;\n",
              "    border-bottom-color: var(--fill-color);\n",
              "    animation:\n",
              "      spin 1s steps(1) infinite;\n",
              "  }\n",
              "\n",
              "  @keyframes spin {\n",
              "    0% {\n",
              "      border-color: transparent;\n",
              "      border-bottom-color: var(--fill-color);\n",
              "      border-left-color: var(--fill-color);\n",
              "    }\n",
              "    20% {\n",
              "      border-color: transparent;\n",
              "      border-left-color: var(--fill-color);\n",
              "      border-top-color: var(--fill-color);\n",
              "    }\n",
              "    30% {\n",
              "      border-color: transparent;\n",
              "      border-left-color: var(--fill-color);\n",
              "      border-top-color: var(--fill-color);\n",
              "      border-right-color: var(--fill-color);\n",
              "    }\n",
              "    40% {\n",
              "      border-color: transparent;\n",
              "      border-right-color: var(--fill-color);\n",
              "      border-top-color: var(--fill-color);\n",
              "    }\n",
              "    60% {\n",
              "      border-color: transparent;\n",
              "      border-right-color: var(--fill-color);\n",
              "    }\n",
              "    80% {\n",
              "      border-color: transparent;\n",
              "      border-right-color: var(--fill-color);\n",
              "      border-bottom-color: var(--fill-color);\n",
              "    }\n",
              "    90% {\n",
              "      border-color: transparent;\n",
              "      border-bottom-color: var(--fill-color);\n",
              "    }\n",
              "  }\n",
              "</style>\n",
              "\n",
              "  <script>\n",
              "    async function quickchart(key) {\n",
              "      const quickchartButtonEl =\n",
              "        document.querySelector('#' + key + ' button');\n",
              "      quickchartButtonEl.disabled = true;  // To prevent multiple clicks.\n",
              "      quickchartButtonEl.classList.add('colab-df-spinner');\n",
              "      try {\n",
              "        const charts = await google.colab.kernel.invokeFunction(\n",
              "            'suggestCharts', [key], {});\n",
              "      } catch (error) {\n",
              "        console.error('Error during call to suggestCharts:', error);\n",
              "      }\n",
              "      quickchartButtonEl.classList.remove('colab-df-spinner');\n",
              "      quickchartButtonEl.classList.add('colab-df-quickchart-complete');\n",
              "    }\n",
              "    (() => {\n",
              "      let quickchartButtonEl =\n",
              "        document.querySelector('#df-4f5f307f-9fff-447d-8e7d-5092315b17e5 button');\n",
              "      quickchartButtonEl.style.display =\n",
              "        google.colab.kernel.accessAllowed ? 'block' : 'none';\n",
              "    })();\n",
              "  </script>\n",
              "</div>\n",
              "    </div>\n",
              "  </div>\n"
            ]
          },
          "metadata": {},
          "execution_count": 15
        }
      ],
      "source": [
        "# Import the data from 'credit.csv'\n",
        "df = pd.read_csv('credit.csv')\n",
        "df.head(5)"
      ]
    },
    {
      "cell_type": "code",
      "execution_count": 17,
      "metadata": {
        "colab": {
          "base_uri": "https://localhost:8080/"
        },
        "id": "5goIMjObavS6",
        "outputId": "0319f3dc-2234-4f37-afaa-66edfad72f28"
      },
      "outputs": [
        {
          "output_type": "stream",
          "name": "stdout",
          "text": [
            "Number of rows: 614\n",
            "Number of columns: 13\n"
          ]
        }
      ],
      "source": [
        "# check the number of rows and observations\n",
        "num_rows, num_columns = df.shape\n",
        "\n",
        "print(f\"Number of rows: {num_rows}\")\n",
        "print(f\"Number of columns: {num_columns}\")"
      ]
    },
    {
      "cell_type": "code",
      "execution_count": 22,
      "metadata": {
        "colab": {
          "base_uri": "https://localhost:8080/",
          "height": 616
        },
        "id": "MwgS6DwLJ2FX",
        "outputId": "fcc296e5-7cce-4f80-85b6-851f63703050"
      },
      "outputs": [
        {
          "output_type": "stream",
          "name": "stdout",
          "text": [
            "1    422\n",
            "0    192\n",
            "Name: Loan_Approved, dtype: int64\n"
          ]
        },
        {
          "output_type": "display_data",
          "data": {
            "text/plain": [
              "<Figure size 800x600 with 1 Axes>"
            ],
            "image/png": "[encoded data removed]"
          },
          "metadata": {}
        }
      ],
      "source": [
        "# How many application were approved and how many were denied? Plot a bar plot\n",
        "\n",
        "Loan_Approved = df['Loan_Approved'].value_counts()\n",
        "\n",
        "print(Loan_Approved)\n",
        "\n",
        "plt.figure(figsize=(8, 6))\n",
        "sns.countplot(x='Loan_Approved', data=df, palette='viridis')\n",
        "plt.title('Credit Approval Status')\n",
        "plt.xlabel('Loan_approved')\n",
        "plt.ylabel('Count')\n",
        "plt.show()"
      ]
    },
    {
      "cell_type": "markdown",
      "metadata": {
        "id": "1qCxRt7_avS8"
      },
      "source": [
        "    "
      ]
    },
    {
      "cell_type": "markdown",
      "metadata": {
        "id": "Iid-Mm7SvKLH"
      },
      "source": [
        "### Data Prep"
      ]
    },
    {
      "cell_type": "code",
      "execution_count": 23,
      "metadata": {
        "id": "wPI2UpmKavS9"
      },
      "outputs": [],
      "source": [
        "# drop 'Loan_ID' variable from the data. We won't need it.\n",
        "df = df.drop('Loan_ID', axis=1)"
      ]
    },
    {
      "cell_type": "code",
      "execution_count": 35,
      "metadata": {
        "id": "2vyStNCvavS9"
      },
      "outputs": [],
      "source": [
        "# Create dummy variables for all 'object' type variables except 'Loan_Status'\n",
        "object_columns = df.select_dtypes(include=['object']).columns.tolist()\n",
        "object_columns = [col for col in object_columns if col != 'Loan_Approved']\n",
        "\n",
        "df = pd.get_dummies(df, columns=object_columns, drop_first=True)"
      ]
    },
    {
      "cell_type": "code",
      "execution_count": 36,
      "metadata": {
        "id": "eJHnli8vJ2Fk"
      },
      "outputs": [],
      "source": [
        "# saving this procewssed dataset\n",
        "df.to_csv('Processed_Credit_Dataset.csv', index=None)"
      ]
    },
    {
      "cell_type": "markdown",
      "metadata": {
        "id": "kO38zz_lvQlb"
      },
      "source": [
        "### Data Partition"
      ]
    },
    {
      "cell_type": "code",
      "execution_count": 37,
      "metadata": {
        "id": "Pq-bHTPlJ2Fn",
        "colab": {
          "base_uri": "https://localhost:8080/"
        },
        "outputId": "4d43dc85-b88d-4093-c247-baa8093b9add"
      },
      "outputs": [
        {
          "output_type": "stream",
          "name": "stdout",
          "text": [
            "Input Features (X):\n",
            "   ApplicantIncome  CoapplicantIncome  LoanAmount  Loan_Amount_Term  \\\n",
            "0             5849                0.0         128               360   \n",
            "1             4583             1508.0         128               360   \n",
            "2             3000                0.0          66               360   \n",
            "3             2583             2358.0         120               360   \n",
            "4             6000                0.0         141               360   \n",
            "\n",
            "   Credit_History  Gender_Male  Married_Yes  Dependents_1  Dependents_2  \\\n",
            "0               1            1            0             0             0   \n",
            "1               1            1            1             1             0   \n",
            "2               1            1            1             0             0   \n",
            "3               1            1            1             0             0   \n",
            "4               1            1            0             0             0   \n",
            "\n",
            "   Dependents_3+  Education_Not Graduate  Self_Employed_Yes  \\\n",
            "0              0                       0                  0   \n",
            "1              0                       0                  0   \n",
            "2              0                       0                  1   \n",
            "3              0                       1                  0   \n",
            "4              0                       0                  0   \n",
            "\n",
            "   Property_Area_Semiurban  Property_Area_Urban  \n",
            "0                        0                    1  \n",
            "1                        0                    0  \n",
            "2                        0                    1  \n",
            "3                        0                    1  \n",
            "4                        0                    1  \n"
          ]
        }
      ],
      "source": [
        "# Seperate the input features and target variable\n",
        "\n",
        "target_variable = 'Loan_Approved'\n",
        "\n",
        "X = df.drop(target_variable, axis=1)\n",
        "y = df[target_variable]\n",
        "\n",
        "print(\"Input Features (X):\")\n",
        "print(X.head())"
      ]
    },
    {
      "cell_type": "markdown",
      "metadata": {
        "id": "B2kDu-VHJ2Fn"
      },
      "source": [
        "    "
      ]
    },
    {
      "cell_type": "code",
      "execution_count": 40,
      "metadata": {
        "id": "m4VrDseVJ2Fn",
        "colab": {
          "base_uri": "https://localhost:8080/"
        },
        "outputId": "28ab684f-8355-4933-c0c2-662571aa7c74"
      },
      "outputs": [
        {
          "output_type": "stream",
          "name": "stdout",
          "text": [
            "X_train shape: (491, 14)\n",
            "X_test shape: (123, 14)\n",
            "y_train shape: (491,)\n",
            "y_test shape: (123,)\n"
          ]
        }
      ],
      "source": [
        "# splitting the data in training and testing set\n",
        "from sklearn.model_selection import train_test_split\n",
        "\n",
        "X_train, X_test, y_train, y_test = train_test_split(X, y, test_size=0.2, random_state=42)\n",
        "\n",
        "print(\"X_train shape:\", X_train.shape)\n",
        "print(\"X_test shape:\", X_test.shape)\n",
        "print(\"y_train shape:\", y_train.shape)\n",
        "print(\"y_test shape:\", y_test.shape)"
      ]
    },
    {
      "cell_type": "code",
      "execution_count": 42,
      "metadata": {
        "colab": {
          "base_uri": "https://localhost:8080/"
        },
        "id": "SzRQ8H5EJ2Fo",
        "outputId": "236ff21c-90f1-467c-d10e-94c225f98e6e"
      },
      "outputs": [
        {
          "output_type": "stream",
          "name": "stdout",
          "text": [
            "Sample rows from the training set:\n",
            "     ApplicantIncome  CoapplicantIncome  LoanAmount  Loan_Amount_Term  \\\n",
            "83              6000             2250.0         265               360   \n",
            "90              2958             2900.0         131               360   \n",
            "227             6250             1695.0         210               360   \n",
            "482             2083             3150.0         128               360   \n",
            "464             4166                0.0          98               360   \n",
            "\n",
            "     Credit_History  Gender_Male  Married_Yes  Dependents_1  Dependents_2  \\\n",
            "83                1            1            1             0             0   \n",
            "90                1            1            1             0             0   \n",
            "227               1            1            1             0             1   \n",
            "482               1            1            1             0             0   \n",
            "464               0            1            0             0             0   \n",
            "\n",
            "     Dependents_3+  Education_Not Graduate  Self_Employed_Yes  \\\n",
            "83               0                       0                  0   \n",
            "90               0                       0                  0   \n",
            "227              0                       0                  0   \n",
            "482              0                       0                  0   \n",
            "464              0                       0                  0   \n",
            "\n",
            "     Property_Area_Semiurban  Property_Area_Urban  \n",
            "83                         1                    0  \n",
            "90                         1                    0  \n",
            "227                        1                    0  \n",
            "482                        1                    0  \n",
            "464                        1                    0  \n",
            "83     0\n",
            "90     1\n",
            "227    1\n",
            "482    1\n",
            "464    0\n",
            "Name: Loan_Approved, dtype: int64\n",
            "\n",
            "Sample rows from the testing set:\n",
            "     ApplicantIncome  CoapplicantIncome  LoanAmount  Loan_Amount_Term  \\\n",
            "350             9083                0.0         228               360   \n",
            "377             4310                0.0         130               360   \n",
            "163             4167             1447.0         158               360   \n",
            "609             2900                0.0          71               360   \n",
            "132             2718                0.0          70               360   \n",
            "\n",
            "     Credit_History  Gender_Male  Married_Yes  Dependents_1  Dependents_2  \\\n",
            "350               1            1            1             0             0   \n",
            "377               1            1            1             0             0   \n",
            "163               1            1            1             0             1   \n",
            "609               1            0            0             0             0   \n",
            "132               1            1            0             0             0   \n",
            "\n",
            "     Dependents_3+  Education_Not Graduate  Self_Employed_Yes  \\\n",
            "350              0                       0                  0   \n",
            "377              0                       0                  0   \n",
            "163              0                       0                  0   \n",
            "609              0                       0                  0   \n",
            "132              0                       0                  0   \n",
            "\n",
            "     Property_Area_Semiurban  Property_Area_Urban  \n",
            "350                        1                    0  \n",
            "377                        1                    0  \n",
            "163                        0                    0  \n",
            "609                        0                    0  \n",
            "132                        1                    0  \n",
            "350    1\n",
            "377    1\n",
            "163    1\n",
            "609    1\n",
            "132    1\n",
            "Name: Loan_Approved, dtype: int64\n"
          ]
        }
      ],
      "source": [
        "# check the split if interested\n",
        "\n",
        "print(\"Sample rows from the training set:\")\n",
        "print(X_train.head())\n",
        "print(y_train.head())\n",
        "\n",
        "print(\"\\nSample rows from the testing set:\")\n",
        "print(X_test.head())\n",
        "print(y_test.head())"
      ]
    },
    {
      "cell_type": "markdown",
      "metadata": {
        "id": "HkPTrmw7avTB"
      },
      "source": [
        "    "
      ]
    },
    {
      "cell_type": "markdown",
      "metadata": {
        "id": "XLu2knpLavTB"
      },
      "source": [
        "    "
      ]
    },
    {
      "cell_type": "markdown",
      "metadata": {
        "id": "UMjkOp4WN4A6"
      },
      "source": [
        "# **Models**"
      ]
    },
    {
      "cell_type": "markdown",
      "metadata": {
        "id": "NKdgM9xqxqb-"
      },
      "source": [
        "## <font color='chocolate'>**1. Logistic Regression**</font>"
      ]
    },
    {
      "cell_type": "code",
      "execution_count": 43,
      "metadata": {
        "id": "EGT-Zek_yNEk"
      },
      "outputs": [],
      "source": [
        "# Import Logistic Regression Model\n",
        "from sklearn.linear_model import LogisticRegression"
      ]
    },
    {
      "cell_type": "code",
      "execution_count": 45,
      "metadata": {
        "colab": {
          "base_uri": "https://localhost:8080/",
          "height": 74
        },
        "id": "ErdncwB-avTC",
        "outputId": "e21a9499-dcfb-43ee-9004-b68278ae07c8"
      },
      "outputs": [
        {
          "output_type": "execute_result",
          "data": {
            "text/plain": [
              "LogisticRegression(random_state=42)"
            ],
            "text/html": [
              "<style>#sk-container-id-1 {color: black;background-color: white;}#sk-container-id-1 pre{padding: 0;}#sk-container-id-1 div.sk-toggleable {background-color: white;}#sk-container-id-1 label.sk-toggleable__label {cursor: pointer;display: block;width: 100%;margin-bottom: 0;padding: 0.3em;box-sizing: border-box;text-align: center;}#sk-container-id-1 label.sk-toggleable__label-arrow:before {content: \"▸\";float: left;margin-right: 0.25em;color: #696969;}#sk-container-id-1 label.sk-toggleable__label-arrow:hover:before {color: black;}#sk-container-id-1 div.sk-estimator:hover label.sk-toggleable__label-arrow:before {color: black;}#sk-container-id-1 div.sk-toggleable__content {max-height: 0;max-width: 0;overflow: hidden;text-align: left;background-color: #f0f8ff;}#sk-container-id-1 div.sk-toggleable__content pre {margin: 0.2em;color: black;border-radius: 0.25em;background-color: #f0f8ff;}#sk-container-id-1 input.sk-toggleable__control:checked~div.sk-toggleable__content {max-height: 200px;max-width: 100%;overflow: auto;}#sk-container-id-1 input.sk-toggleable__control:checked~label.sk-toggleable__label-arrow:before {content: \"▾\";}#sk-container-id-1 div.sk-estimator input.sk-toggleable__control:checked~label.sk-toggleable__label {background-color: #d4ebff;}#sk-container-id-1 div.sk-label input.sk-toggleable__control:checked~label.sk-toggleable__label {background-color: #d4ebff;}#sk-container-id-1 input.sk-hidden--visually {border: 0;clip: rect(1px 1px 1px 1px);clip: rect(1px, 1px, 1px, 1px);height: 1px;margin: -1px;overflow: hidden;padding: 0;position: absolute;width: 1px;}#sk-container-id-1 div.sk-estimator {font-family: monospace;background-color: #f0f8ff;border: 1px dotted black;border-radius: 0.25em;box-sizing: border-box;margin-bottom: 0.5em;}#sk-container-id-1 div.sk-estimator:hover {background-color: #d4ebff;}#sk-container-id-1 div.sk-parallel-item::after {content: \"\";width: 100%;border-bottom: 1px solid gray;flex-grow: 1;}#sk-container-id-1 div.sk-label:hover label.sk-toggleable__label {background-color: #d4ebff;}#sk-container-id-1 div.sk-serial::before {content: \"\";position: absolute;border-left: 1px solid gray;box-sizing: border-box;top: 0;bottom: 0;left: 50%;z-index: 0;}#sk-container-id-1 div.sk-serial {display: flex;flex-direction: column;align-items: center;background-color: white;padding-right: 0.2em;padding-left: 0.2em;position: relative;}#sk-container-id-1 div.sk-item {position: relative;z-index: 1;}#sk-container-id-1 div.sk-parallel {display: flex;align-items: stretch;justify-content: center;background-color: white;position: relative;}#sk-container-id-1 div.sk-item::before, #sk-container-id-1 div.sk-parallel-item::before {content: \"\";position: absolute;border-left: 1px solid gray;box-sizing: border-box;top: 0;bottom: 0;left: 50%;z-index: -1;}#sk-container-id-1 div.sk-parallel-item {display: flex;flex-direction: column;z-index: 1;position: relative;background-color: white;}#sk-container-id-1 div.sk-parallel-item:first-child::after {align-self: flex-end;width: 50%;}#sk-container-id-1 div.sk-parallel-item:last-child::after {align-self: flex-start;width: 50%;}#sk-container-id-1 div.sk-parallel-item:only-child::after {width: 0;}#sk-container-id-1 div.sk-dashed-wrapped {border: 1px dashed gray;margin: 0 0.4em 0.5em 0.4em;box-sizing: border-box;padding-bottom: 0.4em;background-color: white;}#sk-container-id-1 div.sk-label label {font-family: monospace;font-weight: bold;display: inline-block;line-height: 1.2em;}#sk-container-id-1 div.sk-label-container {text-align: center;}#sk-container-id-1 div.sk-container {/* jupyter's `normalize.less` sets `[hidden] { display: none; }` but bootstrap.min.css set `[hidden] { display: none !important; }` so we also need the `!important` here to be able to override the default hidden behavior on the sphinx rendered scikit-learn.org. See: https://github.com/scikit-learn/scikit-learn/issues/21755 */display: inline-block !important;position: relative;}#sk-container-id-1 div.sk-text-repr-fallback {display: none;}</style><div id=\"sk-container-id-1\" class=\"sk-top-container\"><div class=\"sk-text-repr-fallback\"><pre>LogisticRegression(random_state=42)</pre><b>In a Jupyter environment, please rerun this cell to show the HTML representation or trust the notebook. <br />On GitHub, the HTML representation is unable to render, please try loading this page with nbviewer.org.</b></div><div class=\"sk-container\" hidden><div class=\"sk-item\"><div class=\"sk-estimator sk-toggleable\"><input class=\"sk-toggleable__control sk-hidden--visually\" id=\"sk-estimator-id-1\" type=\"checkbox\" checked><label for=\"sk-estimator-id-1\" class=\"sk-toggleable__label sk-toggleable__label-arrow\">LogisticRegression</label><div class=\"sk-toggleable__content\"><pre>LogisticRegression(random_state=42)</pre></div></div></div></div></div>"
            ]
          },
          "metadata": {},
          "execution_count": 45
        }
      ],
      "source": [
        "# Fit the model on the data\n",
        "logreg_model = LogisticRegression(random_state=42)\n",
        "logreg_model.fit(X_train, y_train)"
      ]
    },
    {
      "cell_type": "code",
      "execution_count": 46,
      "metadata": {
        "colab": {
          "base_uri": "https://localhost:8080/"
        },
        "id": "SPohSDFZyXAh",
        "outputId": "b54f59a7-8014-4f9a-f919-5afeebda14d8"
      },
      "outputs": [
        {
          "output_type": "stream",
          "name": "stdout",
          "text": [
            "Testing Accuracy: 0.7886\n"
          ]
        }
      ],
      "source": [
        "# From sklearn.metrics import accuracy_score and confusion_matrix\n",
        "from sklearn.metrics import accuracy_score, confusion_matrix\n",
        "\n",
        "# Predict the loan eligibility on testing set and calculate its accuracy.\n",
        "y_test_pred = logreg_model.predict(X_test)\n",
        "test_accuracy = accuracy_score(y_test, y_test_pred)\n",
        "print(f\"Testing Accuracy: {test_accuracy:.4f}\")"
      ]
    },
    {
      "cell_type": "code",
      "execution_count": 47,
      "metadata": {
        "colab": {
          "base_uri": "https://localhost:8080/"
        },
        "id": "aGBkQeACavTD",
        "outputId": "e6fef286-cb6c-4895-ea97-d198a356d643"
      },
      "outputs": [
        {
          "output_type": "stream",
          "name": "stdout",
          "text": [
            "\n",
            "Confusion Matrix:\n",
            "[[18 25]\n",
            " [ 1 79]]\n"
          ]
        }
      ],
      "source": [
        "# Print the confusion matrix\n",
        "conf_matrix = confusion_matrix(y_test, y_test_pred)\n",
        "print(\"\\nConfusion Matrix:\")\n",
        "print(conf_matrix)"
      ]
    },
    {
      "cell_type": "code",
      "execution_count": 58,
      "metadata": {
        "colab": {
          "base_uri": "https://localhost:8080/"
        },
        "id": "3oLd4C6GavTD",
        "outputId": "261f3acc-6624-443f-f096-219c7ca3a182"
      },
      "outputs": [
        {
          "output_type": "stream",
          "name": "stdout",
          "text": [
            "Predicted Probabilities:\n",
            "[[0.12297176 0.87702824]\n",
            " [0.10213633 0.89786367]\n",
            " [0.17287715 0.82712285]\n",
            " [0.2106497  0.7893503 ]\n",
            " [0.1298415  0.8701585 ]\n",
            " [0.29261607 0.70738393]\n",
            " [0.07788406 0.92211594]\n",
            " [0.16366222 0.83633778]\n",
            " [0.30222379 0.69777621]\n",
            " [0.28631631 0.71368369]\n",
            " [0.61463429 0.38536571]\n",
            " [0.22072772 0.77927228]\n",
            " [0.2207259  0.7792741 ]\n",
            " [0.25096333 0.74903667]\n",
            " [0.16039279 0.83960721]\n",
            " [0.16978063 0.83021937]\n",
            " [0.2339413  0.7660587 ]\n",
            " [0.1805129  0.8194871 ]\n",
            " [0.16971173 0.83028827]\n",
            " [0.04486176 0.95513824]\n",
            " [0.20022887 0.79977113]\n",
            " [0.1159973  0.8840027 ]\n",
            " [0.16818285 0.83181715]\n",
            " [0.17347251 0.82652749]\n",
            " [0.29804    0.70196   ]\n",
            " [0.33579689 0.66420311]\n",
            " [0.42475393 0.57524607]\n",
            " [0.1426804  0.8573196 ]\n",
            " [0.1168043  0.8831957 ]\n",
            " [0.07791124 0.92208876]\n",
            " [0.14345311 0.85654689]\n",
            " [0.10516719 0.89483281]\n",
            " [0.16773759 0.83226241]\n",
            " [0.28414275 0.71585725]\n",
            " [0.29004227 0.70995773]\n",
            " [0.90778376 0.09221624]\n",
            " [0.23028853 0.76971147]\n",
            " [0.17841619 0.82158381]\n",
            " [0.07943249 0.92056751]\n",
            " [0.15224416 0.84775584]\n",
            " [0.26359548 0.73640452]\n",
            " [0.422899   0.577101  ]\n",
            " [0.27927251 0.72072749]\n",
            " [0.20549942 0.79450058]\n",
            " [0.25998953 0.74001047]\n",
            " [0.12554861 0.87445139]\n",
            " [0.34607286 0.65392714]\n",
            " [0.83913043 0.16086957]\n",
            " [0.84922798 0.15077202]\n",
            " [0.73547765 0.26452235]\n",
            " [0.33885528 0.66114472]\n",
            " [0.14654836 0.85345164]\n",
            " [0.90000758 0.09999242]\n",
            " [0.32042049 0.67957951]\n",
            " [0.23472665 0.76527335]\n",
            " [0.22721504 0.77278496]\n",
            " [0.3364607  0.6635393 ]\n",
            " [0.30706217 0.69293783]\n",
            " [0.89982253 0.10017747]\n",
            " [0.09129046 0.90870954]\n",
            " [0.74035104 0.25964896]\n",
            " [0.18309505 0.81690495]\n",
            " [0.77850481 0.22149519]\n",
            " [0.24764019 0.75235981]\n",
            " [0.15889496 0.84110504]\n",
            " [0.23959496 0.76040504]\n",
            " [0.10680654 0.89319346]\n",
            " [0.16146036 0.83853964]\n",
            " [0.16904096 0.83095904]\n",
            " [0.29979448 0.70020552]\n",
            " [0.90259402 0.09740598]\n",
            " [0.18886048 0.81113952]\n",
            " [0.14724678 0.85275322]\n",
            " [0.18658242 0.81341758]\n",
            " [0.69279156 0.30720844]\n",
            " [0.14302677 0.85697323]\n",
            " [0.22525716 0.77474284]\n",
            " [0.88699996 0.11300004]\n",
            " [0.84430298 0.15569702]\n",
            " [0.10547124 0.89452876]\n",
            " [0.20982504 0.79017496]\n",
            " [0.05071221 0.94928779]\n",
            " [0.09794713 0.90205287]\n",
            " [0.19041278 0.80958722]\n",
            " [0.20775769 0.79224231]\n",
            " [0.11860208 0.88139792]\n",
            " [0.31750277 0.68249723]\n",
            " [0.60971211 0.39028789]\n",
            " [0.28914381 0.71085619]\n",
            " [0.20879446 0.79120554]\n",
            " [0.18041592 0.81958408]\n",
            " [0.87551743 0.12448257]\n",
            " [0.84744095 0.15255905]\n",
            " [0.16651223 0.83348777]\n",
            " [0.12371145 0.87628855]\n",
            " [0.15805248 0.84194752]\n",
            " [0.2039801  0.7960199 ]\n",
            " [0.13344254 0.86655746]\n",
            " [0.29669518 0.70330482]\n",
            " [0.28144815 0.71855185]\n",
            " [0.10327824 0.89672176]\n",
            " [0.16350602 0.83649398]\n",
            " [0.36513471 0.63486529]\n",
            " [0.24384544 0.75615456]\n",
            " [0.41711488 0.58288512]\n",
            " [0.86900085 0.13099915]\n",
            " [0.23215835 0.76784165]\n",
            " [0.77020996 0.22979004]\n",
            " [0.23133168 0.76866832]\n",
            " [0.20591628 0.79408372]\n",
            " [0.31607954 0.68392046]\n",
            " [0.86245848 0.13754152]\n",
            " [0.20927651 0.79072349]\n",
            " [0.30949323 0.69050677]\n",
            " [0.17528944 0.82471056]\n",
            " [0.38818279 0.61181721]\n",
            " [0.22475617 0.77524383]\n",
            " [0.22999645 0.77000355]\n",
            " [0.08519438 0.91480562]\n",
            " [0.20570791 0.79429209]\n",
            " [0.25051179 0.74948821]\n",
            " [0.16095564 0.83904436]\n",
            " [0.23154211 0.76845789]]\n"
          ]
        }
      ],
      "source": [
        "# check how probabilities are assigned\n",
        "y_test_probabilities = logreg_model.predict_proba(X_test)\n",
        "\n",
        "print(\"Predicted Probabilities:\")\n",
        "print(y_test_probabilities)\n"
      ]
    },
    {
      "cell_type": "code",
      "execution_count": 55,
      "metadata": {
        "colab": {
          "base_uri": "https://localhost:8080/"
        },
        "id": "KkV650UDavTD",
        "outputId": "19cb2d7c-0284-4eba-f1be-b2d60078997f"
      },
      "outputs": [
        {
          "output_type": "stream",
          "name": "stdout",
          "text": [
            "Binary Predictions with Custom Threshold:\n",
            "[1 1 1 1 1 1 1 1 0 1 0 1 1 1 1 1 1 1 1 1 1 1 1 1 1 0 0 1 1 1 1 1 1 1 1 0 1\n",
            " 1 1 1 1 0 1 1 1 1 0 0 0 0 0 1 0 0 1 1 0 0 0 1 0 1 0 1 1 1 1 1 1 1 0 1 1 1\n",
            " 0 1 1 0 0 1 1 1 1 1 1 1 0 0 1 1 1 0 0 1 1 1 1 1 1 1 1 1 0 1 0 0 1 0 1 1 0\n",
            " 0 1 0 1 0 1 1 1 1 1 1 1]\n"
          ]
        }
      ],
      "source": [
        "# to change the default threshold and to make it 70% and above\n",
        "#(pypred[:, 1] >= 0.7).astype(int)\n",
        "\n",
        "y_test_probabilities = logreg_model.predict_proba(X_test)\n",
        "\n",
        "custom_threshold = 0.7\n",
        "\n",
        "y_test_custom_threshold = (y_test_probabilities[:, 1] >= custom_threshold).astype(int)\n",
        "\n",
        "print(\"Binary Predictions with Custom Threshold:\")\n",
        "print(y_test_custom_threshold)"
      ]
    },
    {
      "cell_type": "markdown",
      "metadata": {
        "id": "YoqvPeBfavTE"
      },
      "source": [
        "    "
      ]
    },
    {
      "cell_type": "markdown",
      "metadata": {
        "id": "WU_fkGPkJ2Fo"
      },
      "source": [
        "## <font color='chocolate'>**2. Random Forest**"
      ]
    },
    {
      "cell_type": "code",
      "execution_count": 57,
      "metadata": {
        "id": "KeZaDpheJ2Fp"
      },
      "outputs": [],
      "source": [
        "# Import RandomForestClassifier\n",
        "\n",
        "from sklearn.ensemble import RandomForestClassifier"
      ]
    },
    {
      "cell_type": "code",
      "execution_count": null,
      "metadata": {
        "id": "IH7Qr18iJ2Fp"
      },
      "outputs": [],
      "source": [
        "# Let's list the tunable hyperparameters for Random Forest algorithm"
      ]
    },
    {
      "cell_type": "markdown",
      "metadata": {
        "id": "Qynt51fiJ2Fp"
      },
      "source": [
        "For random forests,\n",
        "\n",
        "* The first hyperparameter to tune is n_estimators. We will try 100 and 200.\n",
        "\n",
        "* The second one is max_features. Let's try - 'auto', 'sqrt', and 0.33.\n",
        "\n",
        "* The third one is min_samples_leaf. Let's try - 1, 3, 5, 10"
      ]
    },
    {
      "cell_type": "code",
      "execution_count": 60,
      "metadata": {
        "colab": {
          "base_uri": "https://localhost:8080/"
        },
        "id": "90xkbb93avTG",
        "outputId": "faccbf3c-3750-4abd-94c0-2d3b7c011847"
      },
      "outputs": [
        {
          "output_type": "stream",
          "name": "stdout",
          "text": [
            "Random Forest Testing Accuracy: 0.7805\n"
          ]
        }
      ],
      "source": [
        "# Fit a Random Forest Classifier\n",
        "rf_model = RandomForestClassifier(random_state=42)\n",
        "rf_model.fit(X_train, y_train)\n",
        "y_test_pred_rf = rf_model.predict(X_test)\n",
        "test_accuracy_rf = accuracy_score(y_test, y_test_pred_rf)\n",
        "print(f\"Random Forest Testing Accuracy: {test_accuracy_rf:.4f}\")\n"
      ]
    },
    {
      "cell_type": "code",
      "execution_count": null,
      "metadata": {
        "id": "8B_xZlk4avTG"
      },
      "outputs": [],
      "source": []
    }
  ],
  "metadata": {
    "colab": {
      "collapsed_sections": [
        "RYOHc68YujYE",
        "lc_kizYoJ2FS",
        "ZsJCxVwOJ2FU",
        "Iid-Mm7SvKLH",
        "kO38zz_lvQlb",
        "WU_fkGPkJ2Fo"
      ],
      "provenance": []
    },
    "kernelspec": {
      "display_name": "Python 3 (ipykernel)",
      "language": "python",
      "name": "python3"
    },
    "language_info": {
      "codemirror_mode": {
        "name": "ipython",
        "version": 3
      },
      "file_extension": ".py",
      "mimetype": "text/x-python",
      "name": "python",
      "nbconvert_exporter": "python",
      "pygments_lexer": "ipython3",
      "version": "3.9.13"
    }
  },
  "nbformat": 4,
  "nbformat_minor": 0
}